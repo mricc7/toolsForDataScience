{
 "cells": [
  {
   "cell_type": "markdown",
   "id": "dd425d07-d08b-4b79-ace1-3dbc99e6f540",
   "metadata": {},
   "source": [
    "# Data Science Tools"
   ]
  },
  {
   "cell_type": "markdown",
   "id": "31d978ec-8f53-4a32-b054-8e44d5a92424",
   "metadata": {},
   "source": [
    "## Author\n",
    "Max Ricciardelli"
   ]
  },
  {
   "cell_type": "markdown",
   "id": "ca220102-dd94-422d-b750-204f2210e9a0",
   "metadata": {},
   "source": [
    "In this notebook, Data Science Tools and Ecosystem are summarized."
   ]
  },
  {
   "cell_type": "markdown",
   "id": "9cb40892-9946-42c0-b3ff-6997bc8a7634",
   "metadata": {},
   "source": [
    "**Objectives:**\n",
    "- List popular languages that Data Scienctists use\n",
    "- List commonly used Data Science libraries\n",
    "- Show examples of arithmetic using python"
   ]
  },
  {
   "cell_type": "markdown",
   "id": "a6a62dc5-b2b4-40a2-b0b6-9caeabaadd2f",
   "metadata": {},
   "source": [
    "Some of the popular languages that Data Scientists use are:\n",
    "1. Python\n",
    "2. R\n",
    "3. Julia\n",
    "4. Scala"
   ]
  },
  {
   "cell_type": "markdown",
   "id": "ef74995b-a10f-4ac8-9cf0-0703a921aa62",
   "metadata": {},
   "source": [
    "Some of the commonly used data science libraries by Data Scientists include:\n",
    "1. pandas\n",
    "2. plotly\n",
    "3. matplotlib\n",
    "4. seaborne\n",
    "5. numpy"
   ]
  },
  {
   "cell_type": "markdown",
   "id": "6b71d1a6-c0d6-4a80-a59f-258501c4901f",
   "metadata": {},
   "source": [
    "|Data Science Tools|\n",
    "|------|\n",
    "|R Studio|\n",
    "|Jupyter Lab|\n",
    "|VS Code|"
   ]
  },
  {
   "cell_type": "markdown",
   "id": "4e244ae0-8dcd-4176-82a7-685ceb49c0f9",
   "metadata": {},
   "source": [
    "### Below are a few examples of evaluating arithmetic expressions in Python"
   ]
  },
  {
   "cell_type": "code",
   "execution_count": 9,
   "id": "7b3d0118-ccdd-4730-b4ab-06a2124efd38",
   "metadata": {},
   "outputs": [
    {
     "data": {
      "text/plain": [
       "17"
      ]
     },
     "execution_count": 9,
     "metadata": {},
     "output_type": "execute_result"
    }
   ],
   "source": [
    "# This is a simple arithmetic expression to multiply then add integers\n",
    "(3*4)+5"
   ]
  },
  {
   "cell_type": "code",
   "execution_count": 27,
   "id": "81721df2-7b8d-492b-af5b-25e93e801ce4",
   "metadata": {},
   "outputs": [
    {
     "name": "stdout",
     "output_type": "stream",
     "text": [
      "200 minutes converts into 3.3333333333333335 hours\n"
     ]
    }
   ],
   "source": [
    "# This will convert 200 minutes to hours by diving by 60\n",
    "minutes = 200\n",
    "print(str(minutes) + \" minutes converts into \" + str(minutes / 60) + \" hours\")"
   ]
  },
  {
   "cell_type": "markdown",
   "id": "b7e9db01-94fb-4c0f-a5fe-dc2afc75c936",
   "metadata": {},
   "source": []
  },
  {
   "cell_type": "code",
   "execution_count": null,
   "id": "5e69f311-65c0-48e5-9941-82a643d89341",
   "metadata": {},
   "outputs": [],
   "source": []
  }
 ],
 "metadata": {
  "kernelspec": {
   "display_name": "anaconda-2022.05-py39",
   "language": "python",
   "name": "conda-env-anaconda-2022.05-py39-py"
  },
  "language_info": {
   "codemirror_mode": {
    "name": "ipython",
    "version": 3
   },
   "file_extension": ".py",
   "mimetype": "text/x-python",
   "name": "python",
   "nbconvert_exporter": "python",
   "pygments_lexer": "ipython3",
   "version": "3.9.12"
  }
 },
 "nbformat": 4,
 "nbformat_minor": 5
}
